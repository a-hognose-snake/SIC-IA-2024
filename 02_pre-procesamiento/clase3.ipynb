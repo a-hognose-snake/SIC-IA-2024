{
  "metadata": {
    "kernelspec": {
      "name": "python",
      "display_name": "Python (Pyodide)",
      "language": "python"
    },
    "language_info": {
      "codemirror_mode": {
        "name": "python",
        "version": 3
      },
      "file_extension": ".py",
      "mimetype": "text/x-python",
      "name": "python",
      "nbconvert_exporter": "python",
      "pygments_lexer": "ipython3",
      "version": "3.8"
    }
  },
  "nbformat_minor": 4,
  "nbformat": 4,
  "cells": [
    {
      "cell_type": "markdown",
      "source": "# Clase 3: Introducción a Pandas y Numpy",
      "metadata": {}
    },
    {
      "cell_type": "code",
      "source": "import numpy as np\nimport pandas as pd",
      "metadata": {
        "trusted": true
      },
      "outputs": [],
      "execution_count": 1
    },
    {
      "cell_type": "markdown",
      "source": "#### Crear un array unidimensional",
      "metadata": {}
    },
    {
      "cell_type": "code",
      "source": "array_1d = np.array([1, 2, 3, 4, 5])\nprint(\"Array unidimensional:\", array_1d)",
      "metadata": {
        "trusted": true
      },
      "outputs": [
        {
          "name": "stdout",
          "text": "Array unidimensional: [1 2 3 4 5]\n",
          "output_type": "stream"
        }
      ],
      "execution_count": 2
    },
    {
      "cell_type": "markdown",
      "source": "#### Crear un array bidimensional",
      "metadata": {}
    },
    {
      "cell_type": "code",
      "source": "array_2d = np.array([[1, 2, 3], [4, 5, 6]])\nprint(\"Array bidimensional:\\n\", array_2d)",
      "metadata": {
        "trusted": true
      },
      "outputs": [
        {
          "name": "stdout",
          "text": "Array bidimensional:\n [[1 2 3]\n [4 5 6]]\n",
          "output_type": "stream"
        }
      ],
      "execution_count": 3
    },
    {
      "cell_type": "markdown",
      "source": "#### Operaciones básicas",
      "metadata": {}
    },
    {
      "cell_type": "code",
      "source": "print(\"Suma de todos los elementos:\", np.sum(array_2d))\nprint(\"Media de los elementos:\", np.mean(array_2d))\nprint(\"Máximo valor:\", np.max(array_2d))",
      "metadata": {
        "trusted": true
      },
      "outputs": [
        {
          "name": "stdout",
          "text": "Suma de todos los elementos: 21\nMedia de los elementos: 3.5\nMáximo valor: 6\n",
          "output_type": "stream"
        }
      ],
      "execution_count": 4
    },
    {
      "cell_type": "markdown",
      "source": "#### Crear una Serie",
      "metadata": {}
    },
    {
      "cell_type": "code",
      "source": "serie = pd.Series([10, 20, 30, 40, 50])\nprint(\"Serie:\\n\", serie)",
      "metadata": {
        "trusted": true
      },
      "outputs": [
        {
          "name": "stdout",
          "text": "Serie:\n 0    10\n1    20\n2    30\n3    40\n4    50\ndtype: int64\n",
          "output_type": "stream"
        }
      ],
      "execution_count": 5
    },
    {
      "cell_type": "markdown",
      "source": "#### Crear un DataFrame",
      "metadata": {}
    },
    {
      "cell_type": "code",
      "source": "data = {\n    'Nombre': ['Ana', 'Luis', 'Carlos', 'Marta'],\n    'Edad': [23, 45, 34, 42],\n    'Ciudad': ['Madrid', 'Barcelona', 'Valencia', 'Sevilla']\n}\ndf = pd.DataFrame(data)\nprint(\"DataFrame:\\n\", df)\n",
      "metadata": {
        "trusted": true
      },
      "outputs": [
        {
          "name": "stdout",
          "text": "DataFrame:\n    Nombre  Edad     Ciudad\n0     Ana    23     Madrid\n1    Luis    45  Barcelona\n2  Carlos    34   Valencia\n3   Marta    42    Sevilla\n",
          "output_type": "stream"
        }
      ],
      "execution_count": 6
    },
    {
      "cell_type": "markdown",
      "source": "#### Acceder a una columna",
      "metadata": {}
    },
    {
      "cell_type": "code",
      "source": "print(\"Columna 'Edad':\\n\", df['Edad'])",
      "metadata": {
        "trusted": true
      },
      "outputs": [
        {
          "name": "stdout",
          "text": "Columna 'Edad':\n 0    23\n1    45\n2    34\n3    42\nName: Edad, dtype: int64\n",
          "output_type": "stream"
        }
      ],
      "execution_count": 7
    },
    {
      "cell_type": "markdown",
      "source": "#### Filtrar datos",
      "metadata": {}
    },
    {
      "cell_type": "code",
      "source": "print(\"Filtrar por Edad > 30:\\n\", df[df['Edad'] > 30])",
      "metadata": {
        "trusted": true
      },
      "outputs": [
        {
          "name": "stdout",
          "text": "Filtrar por Edad > 30:\n    Nombre  Edad     Ciudad\n1    Luis    45  Barcelona\n2  Carlos    34   Valencia\n3   Marta    42    Sevilla\n",
          "output_type": "stream"
        }
      ],
      "execution_count": 8
    }
  ]
}
