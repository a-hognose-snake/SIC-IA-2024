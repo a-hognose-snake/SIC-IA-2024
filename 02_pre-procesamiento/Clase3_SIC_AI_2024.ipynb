{
  "nbformat": 4,
  "nbformat_minor": 0,
  "metadata": {
    "colab": {
      "provenance": [],
      "authorship_tag": "ABX9TyMV4UTdsVB8sIF1Ts/V4gXb",
      "include_colab_link": true
    },
    "kernelspec": {
      "name": "python3",
      "display_name": "Python 3"
    },
    "language_info": {
      "name": "python"
    }
  },
  "cells": [
    {
      "cell_type": "markdown",
      "metadata": {
        "id": "view-in-github",
        "colab_type": "text"
      },
      "source": [
        "<a href=\"https://colab.research.google.com/github/davidlealo/sic_ai_2024/blob/main/Clase3_SIC_AI_2024.ipynb\" target=\"_parent\"><img src=\"https://colab.research.google.com/assets/colab-badge.svg\" alt=\"Open In Colab\"/></a>"
      ]
    },
    {
      "cell_type": "markdown",
      "source": [
        "# Clase 3: Introducción a Pandas y Nunpy\n",
        "\n",
        "En este notebook, aprenderemos sobre dos bibliotecas fundamentales para la manipulación y análisis de datos en Python: **Pandas** y **NumPy**.\n",
        "\n",
        "## NumPy\n",
        "\n",
        "NumPy (Numerical Python) es una biblioteca que proporciona soporte para crear y manipular matrices grandes y multidimensionales, junto con una colección de funciones matemáticas para operar con estas matrices de manera eficiente.\n",
        "\n",
        "### Características principales de NumPy:\n",
        "- **Arrays multidimensionales**: NumPy proporciona una estructura de datos llamada `ndarray`, que permite manejar matrices de cualquier dimensión.\n",
        "- **Funciones matemáticas**: Incluye funciones para operaciones algebraicas, estadísticas y lógicas.\n",
        "- **Interoperabilidad**: Funciona bien con otras bibliotecas como SciPy y Matplotlib.\n",
        "\n",
        "## Pandas\n",
        "\n",
        "Pandas es una biblioteca que proporciona estructuras de datos y herramientas de análisis de datos flexibles y eficientes. Es especialmente útil para datos tabulares, como los que se encuentran en hojas de cálculo o bases de datos.\n",
        "\n",
        "### Características principales de Pandas:\n",
        "- **Series**: Estructura unidimensional similar a una lista o un array de NumPy.\n",
        "- **DataFrame**: Estructura bidimensional similar a una tabla en una base de datos o una hoja de cálculo de Excel.\n",
        "- **Funciones de E/S**: Herramientas para leer y escribir datos en diversos formatos (CSV, Excel, SQL, etc.).\n",
        "- **Manipulación de datos**: Funciones para filtrar, agrupar, pivotar, fusionar, etc.\n",
        "\n"
      ],
      "metadata": {
        "id": "hBqFz05XTzBw"
      }
    },
    {
      "cell_type": "markdown",
      "source": [
        "\n",
        "## Ejemplos Prácticos\n",
        "\n",
        "A continuación, veremos ejemplos básicos de cómo usar NumPy y Pandas.\n",
        "\n",
        "### NumPy\n",
        "\n",
        "```python\n",
        "import numpy as np\n",
        "\n",
        "# Crear un array unidimensional\n",
        "array_1d = np.array([1, 2, 3, 4, 5])\n",
        "print(\"Array unidimensional:\", array_1d)\n",
        "\n",
        "# Crear un array bidimensional\n",
        "array_2d = np.array([[1, 2, 3], [4, 5, 6]])\n",
        "print(\"Array bidimensional:\\n\", array_2d)\n",
        "\n",
        "# Operaciones básicas\n",
        "print(\"Suma de todos los elementos:\", np.sum(array_2d))\n",
        "print(\"Media de los elementos:\", np.mean(array_2d))\n",
        "print(\"Máximo valor:\", np.max(array_2d))\n"
      ],
      "metadata": {
        "id": "pZA5KXY1Y3Lo"
      }
    },
    {
      "cell_type": "markdown",
      "source": [
        "# Pandas\n",
        "\n",
        "```python\n",
        "import pandas as pd\n",
        "\n",
        "# Crear una Serie\n",
        "serie = pd.Series([10, 20, 30, 40, 50])\n",
        "print(\"Serie:\\n\", serie)\n",
        "\n",
        "# Crear un DataFrame\n",
        "data = {\n",
        "    'Nombre': ['Ana', 'Luis', 'Carlos', 'Marta'],\n",
        "    'Edad': [23, 45, 34, 42],\n",
        "    'Ciudad': ['Madrid', 'Barcelona', 'Valencia', 'Sevilla']\n",
        "}\n",
        "df = pd.DataFrame(data)\n",
        "print(\"DataFrame:\\n\", df)\n",
        "\n",
        "# Acceder a una columna\n",
        "print(\"Columna 'Edad':\\n\", df['Edad'])\n",
        "\n",
        "# Filtrar datos\n",
        "print(\"Filtrar por Edad > 30:\\n\", df[df['Edad'] > 30])\n"
      ],
      "metadata": {
        "id": "T3vfFUY4Y_KD"
      }
    },
    {
      "cell_type": "code",
      "execution_count": null,
      "metadata": {
        "id": "gyedSb-rOcor"
      },
      "outputs": [],
      "source": [
        "# Corre los códigos que aparecen en el markdown"
      ]
    }
  ]
}